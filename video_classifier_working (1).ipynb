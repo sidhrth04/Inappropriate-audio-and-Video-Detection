{
 "cells": [
  {
   "cell_type": "markdown",
   "id": "64a42a09",
   "metadata": {},
   "source": [
    "# Video Classifier Using CNN and RNN\n",
    "#!dir"
   ]
  },
  {
   "cell_type": "code",
   "execution_count": 1,
   "id": "59b4b70e",
   "metadata": {},
   "outputs": [
    {
     "name": "stdout",
     "output_type": "stream",
     "text": [
      "['.ipynb_checkpoints', 'appropriate', 'nudity', 'violence']\n"
     ]
    }
   ],
   "source": [
    "import numpy as np \n",
    "import pandas as pd \n",
    "import matplotlib.pyplot as plt\n",
    "import os\n",
    "# os.listdir('dataset')\n",
    "dataset_path = os.listdir('dataset/train')\n",
    "\n",
    "label_types = os.listdir('dataset/train')\n",
    "print (label_types)  "
   ]
  },
  {
   "cell_type": "markdown",
   "id": "935f06c4",
   "metadata": {},
   "source": [
    "# Preparing Training Data"
   ]
  },
  {
   "cell_type": "code",
   "execution_count": 2,
   "id": "d7e00542",
   "metadata": {},
   "outputs": [
    {
     "name": "stdout",
     "output_type": "stream",
     "text": [
      "           tag                                         video_name\n",
      "0  appropriate       dataset/train/appropriate/.ipynb_checkpoints\n",
      "1  appropriate  dataset/train/appropriate/pexels-diva-plavalag...\n",
      "2  appropriate  dataset/train/appropriate/pexels-ivan-samkov-8...\n",
      "3  appropriate  dataset/train/appropriate/pexels-karolina-grab...\n",
      "4  appropriate  dataset/train/appropriate/pexels-rodnae-produc...\n",
      "         tag                                 video_name\n",
      "25  violence    dataset/train/violence/far_distance.gif\n",
      "26  violence  dataset/train/violence/low_resolution.gif\n",
      "27  violence        dataset/train/violence/result_1.gif\n",
      "28  violence        dataset/train/violence/result_2.gif\n",
      "29  violence       dataset/train/violence/transient.gif\n"
     ]
    }
   ],
   "source": [
    "rooms = []\n",
    "\n",
    "for item in dataset_path:\n",
    " # Get all the file names\n",
    " all_rooms = os.listdir('dataset/train' + '/' +item)\n",
    "\n",
    " # Add them to the list\n",
    " for room in all_rooms:\n",
    "    rooms.append((item, str('dataset/train' + '/' +item) + '/' + room))\n",
    "    \n",
    "# Build a dataframe        \n",
    "train_df = pd.DataFrame(data=rooms, columns=['tag', 'video_name'])\n",
    "print(train_df.head())\n",
    "print(train_df.tail())\n"
   ]
  },
  {
   "cell_type": "code",
   "execution_count": 3,
   "id": "27ac79ad",
   "metadata": {},
   "outputs": [],
   "source": [
    "df = train_df.loc[:,['video_name','tag']]\n",
    "df\n",
    "df.to_csv('train.csv')"
   ]
  },
  {
   "cell_type": "markdown",
   "id": "ee0897c2",
   "metadata": {},
   "source": [
    "# Preparing Test Data"
   ]
  },
  {
   "cell_type": "code",
   "execution_count": 4,
   "id": "413b31f2",
   "metadata": {},
   "outputs": [
    {
     "name": "stdout",
     "output_type": "stream",
     "text": [
      "['.ipynb_checkpoints', 'appropriate', 'nudity', 'violence']\n",
      "Types of activities found:  4\n",
      "           tag                                   video_name\n",
      "0  appropriate  dataset/test/appropriate/.ipynb_checkpoints\n",
      "1  appropriate         dataset/test/appropriate/blocked.gif\n",
      "2  appropriate         dataset/test/appropriate/crowded.gif\n",
      "3  appropriate           dataset/test/appropriate/demo1.gif\n",
      "4  appropriate    dataset/test/appropriate/far_distance.gif\n",
      "         tag                                video_name\n",
      "26  violence    dataset/test/violence/far_distance.gif\n",
      "27  violence  dataset/test/violence/low_resolution.gif\n",
      "28  violence        dataset/test/violence/result_1.gif\n",
      "29  violence        dataset/test/violence/result_2.gif\n",
      "30  violence       dataset/test/violence/transient.gif\n"
     ]
    }
   ],
   "source": [
    "dataset_path = os.listdir('dataset/test')\n",
    "print(dataset_path)\n",
    "\n",
    "room_types = os.listdir('dataset/test')\n",
    "print(\"Types of activities found: \", len(dataset_path))\n",
    "\n",
    "rooms = []\n",
    "\n",
    "for item in dataset_path:\n",
    " # Get all the file names\n",
    " all_rooms = os.listdir('dataset/test' + '/' +item)\n",
    "\n",
    " # Add them to the list\n",
    " for room in all_rooms:\n",
    "    rooms.append((item, str('dataset/test' + '/' +item) + '/' + room))\n",
    "    \n",
    "# Build a dataframe        \n",
    "test_df = pd.DataFrame(data=rooms, columns=['tag', 'video_name'])\n",
    "print(test_df.head())\n",
    "print(test_df.tail())\n",
    "\n",
    "df = test_df.loc[:,['video_name','tag']]\n",
    "df\n",
    "df.to_csv('test.csv')"
   ]
  },
  {
   "cell_type": "code",
   "execution_count": 5,
   "id": "b30e459b",
   "metadata": {},
   "outputs": [
    {
     "name": "stdout",
     "output_type": "stream",
     "text": [
      "Collecting git+https://github.com/tensorflow/docs\n",
      "  Cloning https://github.com/tensorflow/docs to c:\\users\\acer\\appdata\\local\\temp\\pip-req-build-4onlpxpp\n",
      "  Resolved https://github.com/tensorflow/docs to commit 159143b05575c90bc1217bfa99c76cb5ca27b8d4\n",
      "  Preparing metadata (setup.py): started\n",
      "  Preparing metadata (setup.py): finished with status 'done'\n",
      "Requirement already satisfied: astor in c:\\users\\acer\\anaconda3\\envs\\tf\\lib\\site-packages (from tensorflow-docs==2023.9.4.19335) (0.8.1)\n",
      "Requirement already satisfied: absl-py in c:\\users\\acer\\anaconda3\\envs\\tf\\lib\\site-packages (from tensorflow-docs==2023.9.4.19335) (1.4.0)\n",
      "Requirement already satisfied: jinja2 in c:\\users\\acer\\anaconda3\\envs\\tf\\lib\\site-packages (from tensorflow-docs==2023.9.4.19335) (3.1.2)\n",
      "Requirement already satisfied: nbformat in c:\\users\\acer\\anaconda3\\envs\\tf\\lib\\site-packages (from tensorflow-docs==2023.9.4.19335) (5.9.2)\n",
      "Requirement already satisfied: protobuf>=3.12 in c:\\users\\acer\\anaconda3\\envs\\tf\\lib\\site-packages (from tensorflow-docs==2023.9.4.19335) (3.20.3)\n",
      "Requirement already satisfied: pyyaml in c:\\users\\acer\\anaconda3\\envs\\tf\\lib\\site-packages (from tensorflow-docs==2023.9.4.19335) (6.0.1)\n",
      "Requirement already satisfied: MarkupSafe>=2.0 in c:\\users\\acer\\anaconda3\\envs\\tf\\lib\\site-packages (from jinja2->tensorflow-docs==2023.9.4.19335) (2.1.1)\n",
      "Requirement already satisfied: fastjsonschema in c:\\users\\acer\\anaconda3\\envs\\tf\\lib\\site-packages (from nbformat->tensorflow-docs==2023.9.4.19335) (2.16.2)\n",
      "Requirement already satisfied: jsonschema>=2.6 in c:\\users\\acer\\anaconda3\\envs\\tf\\lib\\site-packages (from nbformat->tensorflow-docs==2023.9.4.19335) (4.17.3)\n",
      "Requirement already satisfied: jupyter-core in c:\\users\\acer\\anaconda3\\envs\\tf\\lib\\site-packages (from nbformat->tensorflow-docs==2023.9.4.19335) (5.3.0)\n",
      "Requirement already satisfied: traitlets>=5.1 in c:\\users\\acer\\anaconda3\\envs\\tf\\lib\\site-packages (from nbformat->tensorflow-docs==2023.9.4.19335) (5.7.1)\n",
      "Requirement already satisfied: attrs>=17.4.0 in c:\\users\\acer\\anaconda3\\envs\\tf\\lib\\site-packages (from jsonschema>=2.6->nbformat->tensorflow-docs==2023.9.4.19335) (22.1.0)\n",
      "Requirement already satisfied: pyrsistent!=0.17.0,!=0.17.1,!=0.17.2,>=0.14.0 in c:\\users\\acer\\anaconda3\\envs\\tf\\lib\\site-packages (from jsonschema>=2.6->nbformat->tensorflow-docs==2023.9.4.19335) (0.18.0)\n",
      "Requirement already satisfied: platformdirs>=2.5 in c:\\users\\acer\\anaconda3\\envs\\tf\\lib\\site-packages (from jupyter-core->nbformat->tensorflow-docs==2023.9.4.19335) (3.10.0)\n",
      "Requirement already satisfied: pywin32>=300 in c:\\users\\acer\\anaconda3\\envs\\tf\\lib\\site-packages (from jupyter-core->nbformat->tensorflow-docs==2023.9.4.19335) (305.1)\n"
     ]
    },
    {
     "name": "stderr",
     "output_type": "stream",
     "text": [
      "  Running command git clone --filter=blob:none --quiet https://github.com/tensorflow/docs 'C:\\Users\\ACER\\AppData\\Local\\Temp\\pip-req-build-4onlpxpp'\n"
     ]
    }
   ],
   "source": [
    "!pip install git+https://github.com/tensorflow/docs"
   ]
  },
  {
   "cell_type": "code",
   "execution_count": 6,
   "id": "341b1179",
   "metadata": {},
   "outputs": [],
   "source": [
    "from tensorflow_docs.vis import embed\n",
    "from tensorflow import keras\n",
    "from imutils import paths\n",
    "\n",
    "import matplotlib.pyplot as plt\n",
    "import tensorflow as tf\n",
    "import pandas as pd\n",
    "import numpy as np\n",
    "import imageio\n",
    "import cv2\n",
    "import os"
   ]
  },
  {
   "cell_type": "code",
   "execution_count": 7,
   "id": "f4fed40c",
   "metadata": {},
   "outputs": [],
   "source": [
    "gpus = tf.config.experimental.list_physical_devices('GPU')\n",
    "if gpus:\n",
    "  try:\n",
    "    tf.config.experimental.set_virtual_device_configuration(\n",
    "        gpus[0],[tf.config.experimental.VirtualDeviceConfiguration(memory_limit=5120)])\n",
    "  except RuntimeError as e:\n",
    "    print(e)"
   ]
  },
  {
   "cell_type": "markdown",
   "id": "2bdf44bb",
   "metadata": {},
   "source": [
    "# Data preparation"
   ]
  },
  {
   "cell_type": "code",
   "execution_count": 8,
   "id": "8b716cfb",
   "metadata": {},
   "outputs": [
    {
     "name": "stdout",
     "output_type": "stream",
     "text": [
      "Total videos for training: 30\n",
      "Total videos for testing: 31\n"
     ]
    },
    {
     "data": {
      "text/html": [
       "<div>\n",
       "<style scoped>\n",
       "    .dataframe tbody tr th:only-of-type {\n",
       "        vertical-align: middle;\n",
       "    }\n",
       "\n",
       "    .dataframe tbody tr th {\n",
       "        vertical-align: top;\n",
       "    }\n",
       "\n",
       "    .dataframe thead th {\n",
       "        text-align: right;\n",
       "    }\n",
       "</style>\n",
       "<table border=\"1\" class=\"dataframe\">\n",
       "  <thead>\n",
       "    <tr style=\"text-align: right;\">\n",
       "      <th></th>\n",
       "      <th>Unnamed: 0</th>\n",
       "      <th>video_name</th>\n",
       "      <th>tag</th>\n",
       "    </tr>\n",
       "  </thead>\n",
       "  <tbody>\n",
       "    <tr>\n",
       "      <th>6</th>\n",
       "      <td>6</td>\n",
       "      <td>dataset/train/appropriate/production_id_369594...</td>\n",
       "      <td>appropriate</td>\n",
       "    </tr>\n",
       "    <tr>\n",
       "      <th>27</th>\n",
       "      <td>27</td>\n",
       "      <td>dataset/train/violence/result_1.gif</td>\n",
       "      <td>violence</td>\n",
       "    </tr>\n",
       "    <tr>\n",
       "      <th>10</th>\n",
       "      <td>10</td>\n",
       "      <td>dataset/train/appropriate/production_id_483221...</td>\n",
       "      <td>appropriate</td>\n",
       "    </tr>\n",
       "    <tr>\n",
       "      <th>0</th>\n",
       "      <td>0</td>\n",
       "      <td>dataset/train/appropriate/.ipynb_checkpoints</td>\n",
       "      <td>appropriate</td>\n",
       "    </tr>\n",
       "    <tr>\n",
       "      <th>22</th>\n",
       "      <td>22</td>\n",
       "      <td>dataset/train/violence/blocked.gif</td>\n",
       "      <td>violence</td>\n",
       "    </tr>\n",
       "    <tr>\n",
       "      <th>1</th>\n",
       "      <td>1</td>\n",
       "      <td>dataset/train/appropriate/pexels-diva-plavalag...</td>\n",
       "      <td>appropriate</td>\n",
       "    </tr>\n",
       "  </tbody>\n",
       "</table>\n",
       "</div>"
      ],
      "text/plain": [
       "    Unnamed: 0                                         video_name          tag\n",
       "6            6  dataset/train/appropriate/production_id_369594...  appropriate\n",
       "27          27                dataset/train/violence/result_1.gif     violence\n",
       "10          10  dataset/train/appropriate/production_id_483221...  appropriate\n",
       "0            0       dataset/train/appropriate/.ipynb_checkpoints  appropriate\n",
       "22          22                 dataset/train/violence/blocked.gif     violence\n",
       "1            1  dataset/train/appropriate/pexels-diva-plavalag...  appropriate"
      ]
     },
     "execution_count": 8,
     "metadata": {},
     "output_type": "execute_result"
    }
   ],
   "source": [
    "train_df = pd.read_csv(\"train.csv\")\n",
    "test_df = pd.read_csv(\"test.csv\")\n",
    "\n",
    "print(f\"Total videos for training: {len(train_df)}\")\n",
    "print(f\"Total videos for testing: {len(test_df)}\")\n",
    "\n",
    "\n",
    "train_df.sample(6)"
   ]
  },
  {
   "cell_type": "markdown",
   "id": "b93c182a",
   "metadata": {},
   "source": [
    "# Feed the videos to a network:\n"
   ]
  },
  {
   "cell_type": "code",
   "execution_count": 9,
   "id": "fcd68b72",
   "metadata": {},
   "outputs": [],
   "source": [
    "# The following two methods are taken from this tutorial:\n",
    "# https://www.tensorflow.org/hub/tutorials/action_recognition_with_tf_hub\n",
    "IMG_SIZE = 224\n",
    "\n",
    "\n",
    "def crop_center_square(frame):\n",
    "    y, x = frame.shape[0:2]\n",
    "    min_dim = min(y, x)\n",
    "    start_x = (x // 2) - (min_dim // 2)\n",
    "    start_y = (y // 2) - (min_dim // 2)\n",
    "    return frame[start_y : start_y + min_dim, start_x : start_x + min_dim]\n",
    "\n",
    "\n",
    "def load_video(path, max_frames=0, resize=(IMG_SIZE, IMG_SIZE)):\n",
    "    cap = cv2.VideoCapture(path)\n",
    "    frames = []\n",
    "    try:\n",
    "        while True:\n",
    "            ret, frame = cap.read()\n",
    "            if not ret:\n",
    "                break\n",
    "            frame = crop_center_square(frame)\n",
    "            frame = cv2.resize(frame, resize)\n",
    "            frame = frame[:, :, [2, 1, 0]]\n",
    "            frames.append(frame)\n",
    "\n",
    "            if len(frames) == max_frames:\n",
    "                break\n",
    "    finally:\n",
    "        cap.release()\n",
    "    return np.array(frames)"
   ]
  },
  {
   "cell_type": "markdown",
   "id": "c243c6ee",
   "metadata": {},
   "source": [
    "   ### Feature Extraction"
   ]
  },
  {
   "cell_type": "code",
   "execution_count": 10,
   "id": "388c0afe",
   "metadata": {},
   "outputs": [],
   "source": [
    "def build_feature_extractor():\n",
    "    feature_extractor = keras.applications.InceptionV3(\n",
    "        weights=\"imagenet\",\n",
    "        include_top=False,\n",
    "        pooling=\"avg\",\n",
    "        input_shape=(IMG_SIZE, IMG_SIZE, 3),\n",
    "    )\n",
    "    preprocess_input = keras.applications.inception_v3.preprocess_input\n",
    "\n",
    "    inputs = keras.Input((IMG_SIZE, IMG_SIZE, 3))\n",
    "    preprocessed = preprocess_input(inputs)\n",
    "\n",
    "    outputs = feature_extractor(preprocessed)\n",
    "    return keras.Model(inputs, outputs, name=\"feature_extractor\")\n",
    "\n",
    "\n",
    "feature_extractor = build_feature_extractor()"
   ]
  },
  {
   "cell_type": "markdown",
   "id": "877ca626",
   "metadata": {},
   "source": [
    "### Label Encoding\n",
    "StringLookup layer encode the class labels as integers."
   ]
  },
  {
   "cell_type": "code",
   "execution_count": 11,
   "id": "801339d8",
   "metadata": {},
   "outputs": [
    {
     "name": "stdout",
     "output_type": "stream",
     "text": [
      "['appropriate', 'nudity', 'violence']\n"
     ]
    },
    {
     "data": {
      "text/plain": [
       "array([[0],\n",
       "       [0],\n",
       "       [0],\n",
       "       [0],\n",
       "       [0],\n",
       "       [0],\n",
       "       [0],\n",
       "       [0],\n",
       "       [0],\n",
       "       [0],\n",
       "       [0],\n",
       "       [0],\n",
       "       [0],\n",
       "       [0],\n",
       "       [0],\n",
       "       [0],\n",
       "       [1],\n",
       "       [1],\n",
       "       [1],\n",
       "       [1],\n",
       "       [1],\n",
       "       [1],\n",
       "       [2],\n",
       "       [2],\n",
       "       [2],\n",
       "       [2],\n",
       "       [2],\n",
       "       [2],\n",
       "       [2],\n",
       "       [2]], dtype=int64)"
      ]
     },
     "execution_count": 11,
     "metadata": {},
     "output_type": "execute_result"
    }
   ],
   "source": [
    "label_processor = keras.layers.StringLookup(num_oov_indices=0, vocabulary=np.unique(train_df[\"tag\"]))\n",
    "print(label_processor.get_vocabulary())\n",
    "\n",
    "labels = train_df[\"tag\"].values\n",
    "labels = label_processor(labels[..., None]).numpy()\n",
    "labels"
   ]
  },
  {
   "cell_type": "markdown",
   "id": "fde4ac85",
   "metadata": {},
   "source": [
    "Finally, we can put all the pieces together to create our data processing utility."
   ]
  },
  {
   "cell_type": "code",
   "execution_count": 12,
   "id": "18db18a3",
   "metadata": {},
   "outputs": [],
   "source": [
    "#print(train_data[0].shape)\n",
    "#train_data[0]"
   ]
  },
  {
   "cell_type": "code",
   "execution_count": 13,
   "id": "76216366",
   "metadata": {},
   "outputs": [],
   "source": [
    "#Define hyperparameters\n",
    "\n",
    "IMG_SIZE = 224\n",
    "BATCH_SIZE = 64\n",
    "EPOCHS = 100\n",
    "\n",
    "MAX_SEQ_LENGTH = 20\n",
    "NUM_FEATURES = 2048"
   ]
  },
  {
   "cell_type": "code",
   "execution_count": 14,
   "id": "11befa62",
   "metadata": {},
   "outputs": [
    {
     "name": "stdout",
     "output_type": "stream",
     "text": [
      "Frame features in train set: (30, 20, 2048)\n",
      "Frame masks in train set: (30, 20)\n",
      "train_labels in train set: (30, 1)\n",
      "test_labels in train set: (31, 1)\n"
     ]
    }
   ],
   "source": [
    "def prepare_all_videos(df, root_dir):\n",
    "    num_samples = len(df)\n",
    "    video_paths = df[\"video_name\"].values.tolist()\n",
    "    \n",
    "    ##take all classlabels from train_df column named 'tag' and store in labels\n",
    "    labels = df[\"tag\"].values\n",
    "    \n",
    "    #convert classlabels to label encoding\n",
    "    labels = label_processor(labels[..., None]).numpy()\n",
    "\n",
    "    # `frame_masks` and `frame_features` are what we will feed to our sequence model.\n",
    "    # `frame_masks` will contain a bunch of booleans denoting if a timestep is\n",
    "    # masked with padding or not.\n",
    "    frame_masks = np.zeros(shape=(num_samples, MAX_SEQ_LENGTH), dtype=\"bool\") # 145,20\n",
    "    frame_features = np.zeros(shape=(num_samples, MAX_SEQ_LENGTH, NUM_FEATURES), dtype=\"float32\") #145,20,2048\n",
    "\n",
    "    # For each video.\n",
    "    for idx, path in enumerate(video_paths):\n",
    "        # Gather all its frames and add a batch dimension.\n",
    "        frames = load_video(os.path.join(root_dir, path))\n",
    "        frames = frames[None, ...]\n",
    "\n",
    "        # Initialize placeholders to store the masks and features of the current video.\n",
    "        temp_frame_mask = np.zeros(shape=(1, MAX_SEQ_LENGTH,), dtype=\"bool\")\n",
    "        temp_frame_features = np.zeros(\n",
    "            shape=(1, MAX_SEQ_LENGTH, NUM_FEATURES), dtype=\"float32\"\n",
    "        )\n",
    "\n",
    "        # Extract features from the frames of the current video.\n",
    "        for i, batch in enumerate(frames):\n",
    "            video_length = batch.shape[0]\n",
    "            length = min(MAX_SEQ_LENGTH, video_length)\n",
    "            for j in range(length):\n",
    "                temp_frame_features[i, j, :] = feature_extractor.predict(\n",
    "                    batch[None, j, :]\n",
    "                )\n",
    "            temp_frame_mask[i, :length] = 1  # 1 = not masked, 0 = masked\n",
    "\n",
    "        frame_features[idx,] = temp_frame_features.squeeze()\n",
    "        frame_masks[idx,] = temp_frame_mask.squeeze()\n",
    "\n",
    "    return (frame_features, frame_masks), labels\n",
    "\n",
    "\n",
    "train_data, train_labels = prepare_all_videos(train_df, \"train\")\n",
    "test_data, test_labels = prepare_all_videos(test_df, \"test\")\n",
    "\n",
    "print(f\"Frame features in train set: {train_data[0].shape}\")\n",
    "print(f\"Frame masks in train set: {train_data[1].shape}\")\n",
    "\n",
    "\n",
    "\n",
    "print(f\"train_labels in train set: {train_labels.shape}\")\n",
    "\n",
    "print(f\"test_labels in train set: {test_labels.shape}\")\n",
    "\n",
    "# MAX_SEQ_LENGTH = 20, NUM_FEATURES = 2048. We have defined this above under hyper parameters"
   ]
  },
  {
   "cell_type": "code",
   "execution_count": null,
   "id": "c3180452",
   "metadata": {},
   "outputs": [],
   "source": []
  },
  {
   "cell_type": "markdown",
   "id": "407e0827",
   "metadata": {},
   "source": [
    "# The sequence model\n",
    "Now, we can feed this data to a sequence model consisting of recurrent layers like GRU."
   ]
  },
  {
   "cell_type": "code",
   "execution_count": 15,
   "id": "7382f3c1",
   "metadata": {},
   "outputs": [
    {
     "name": "stdout",
     "output_type": "stream",
     "text": [
      "Epoch 1/30\n",
      "1/1 [==============================] - ETA: 0s - loss: 1.0986 - accuracy: 0.7619\n",
      "Epoch 1: val_loss improved from inf to 1.09928, saving model to ./tmp\\video_classifier\n",
      "1/1 [==============================] - 33s 33s/step - loss: 1.0986 - accuracy: 0.7619 - val_loss: 1.0993 - val_accuracy: 0.0000e+00\n",
      "Epoch 2/30\n",
      "1/1 [==============================] - ETA: 0s - loss: 1.0978 - accuracy: 0.7619\n",
      "Epoch 2: val_loss did not improve from 1.09928\n",
      "1/1 [==============================] - 0s 158ms/step - loss: 1.0978 - accuracy: 0.7619 - val_loss: 1.0999 - val_accuracy: 0.0000e+00\n",
      "Epoch 3/30\n",
      "1/1 [==============================] - ETA: 0s - loss: 1.0969 - accuracy: 0.7619\n",
      "Epoch 3: val_loss did not improve from 1.09928\n",
      "1/1 [==============================] - 0s 133ms/step - loss: 1.0969 - accuracy: 0.7619 - val_loss: 1.1006 - val_accuracy: 0.0000e+00\n",
      "Epoch 4/30\n",
      "1/1 [==============================] - ETA: 0s - loss: 1.0960 - accuracy: 0.7619\n",
      "Epoch 4: val_loss did not improve from 1.09928\n",
      "1/1 [==============================] - 0s 124ms/step - loss: 1.0960 - accuracy: 0.7619 - val_loss: 1.1013 - val_accuracy: 0.0000e+00\n",
      "Epoch 5/30\n",
      "1/1 [==============================] - ETA: 0s - loss: 1.0952 - accuracy: 0.7619\n",
      "Epoch 5: val_loss did not improve from 1.09928\n",
      "1/1 [==============================] - 0s 139ms/step - loss: 1.0952 - accuracy: 0.7619 - val_loss: 1.1020 - val_accuracy: 0.0000e+00\n",
      "Epoch 6/30\n",
      "1/1 [==============================] - ETA: 0s - loss: 1.0943 - accuracy: 0.7619\n",
      "Epoch 6: val_loss did not improve from 1.09928\n",
      "1/1 [==============================] - 0s 142ms/step - loss: 1.0943 - accuracy: 0.7619 - val_loss: 1.1026 - val_accuracy: 0.0000e+00\n",
      "Epoch 7/30\n",
      "1/1 [==============================] - ETA: 0s - loss: 1.0935 - accuracy: 0.7619\n",
      "Epoch 7: val_loss did not improve from 1.09928\n",
      "1/1 [==============================] - 0s 126ms/step - loss: 1.0935 - accuracy: 0.7619 - val_loss: 1.1033 - val_accuracy: 0.0000e+00\n",
      "Epoch 8/30\n",
      "1/1 [==============================] - ETA: 0s - loss: 1.0926 - accuracy: 0.7619\n",
      "Epoch 8: val_loss did not improve from 1.09928\n",
      "1/1 [==============================] - 0s 141ms/step - loss: 1.0926 - accuracy: 0.7619 - val_loss: 1.1040 - val_accuracy: 0.0000e+00\n",
      "Epoch 9/30\n",
      "1/1 [==============================] - ETA: 0s - loss: 1.0918 - accuracy: 0.7619\n",
      "Epoch 9: val_loss did not improve from 1.09928\n",
      "1/1 [==============================] - 0s 126ms/step - loss: 1.0918 - accuracy: 0.7619 - val_loss: 1.1046 - val_accuracy: 0.0000e+00\n",
      "Epoch 10/30\n",
      "1/1 [==============================] - ETA: 0s - loss: 1.0909 - accuracy: 0.7619\n",
      "Epoch 10: val_loss did not improve from 1.09928\n",
      "1/1 [==============================] - 0s 121ms/step - loss: 1.0909 - accuracy: 0.7619 - val_loss: 1.1053 - val_accuracy: 0.0000e+00\n",
      "Epoch 11/30\n",
      "1/1 [==============================] - ETA: 0s - loss: 1.0901 - accuracy: 0.7619\n",
      "Epoch 11: val_loss did not improve from 1.09928\n",
      "1/1 [==============================] - 0s 148ms/step - loss: 1.0901 - accuracy: 0.7619 - val_loss: 1.1060 - val_accuracy: 0.0000e+00\n",
      "Epoch 12/30\n",
      "1/1 [==============================] - ETA: 0s - loss: 1.0892 - accuracy: 0.7619\n",
      "Epoch 12: val_loss did not improve from 1.09928\n",
      "1/1 [==============================] - 0s 131ms/step - loss: 1.0892 - accuracy: 0.7619 - val_loss: 1.1067 - val_accuracy: 0.0000e+00\n",
      "Epoch 13/30\n",
      "1/1 [==============================] - ETA: 0s - loss: 1.0884 - accuracy: 0.7619\n",
      "Epoch 13: val_loss did not improve from 1.09928\n",
      "1/1 [==============================] - 0s 134ms/step - loss: 1.0884 - accuracy: 0.7619 - val_loss: 1.1074 - val_accuracy: 0.0000e+00\n",
      "Epoch 14/30\n",
      "1/1 [==============================] - ETA: 0s - loss: 1.0876 - accuracy: 0.7619\n",
      "Epoch 14: val_loss did not improve from 1.09928\n",
      "1/1 [==============================] - 0s 127ms/step - loss: 1.0876 - accuracy: 0.7619 - val_loss: 1.1080 - val_accuracy: 0.0000e+00\n",
      "Epoch 15/30\n",
      "1/1 [==============================] - ETA: 0s - loss: 1.0867 - accuracy: 0.7619\n",
      "Epoch 15: val_loss did not improve from 1.09928\n",
      "1/1 [==============================] - 0s 117ms/step - loss: 1.0867 - accuracy: 0.7619 - val_loss: 1.1087 - val_accuracy: 0.0000e+00\n",
      "Epoch 16/30\n",
      "1/1 [==============================] - ETA: 0s - loss: 1.0859 - accuracy: 0.7619\n",
      "Epoch 16: val_loss did not improve from 1.09928\n",
      "1/1 [==============================] - 0s 135ms/step - loss: 1.0859 - accuracy: 0.7619 - val_loss: 1.1094 - val_accuracy: 0.0000e+00\n",
      "Epoch 17/30\n",
      "1/1 [==============================] - ETA: 0s - loss: 1.0850 - accuracy: 0.7619\n",
      "Epoch 17: val_loss did not improve from 1.09928\n",
      "1/1 [==============================] - 0s 143ms/step - loss: 1.0850 - accuracy: 0.7619 - val_loss: 1.1101 - val_accuracy: 0.0000e+00\n",
      "Epoch 18/30\n",
      "1/1 [==============================] - ETA: 0s - loss: 1.0842 - accuracy: 0.7619\n",
      "Epoch 18: val_loss did not improve from 1.09928\n",
      "1/1 [==============================] - 0s 131ms/step - loss: 1.0842 - accuracy: 0.7619 - val_loss: 1.1108 - val_accuracy: 0.0000e+00\n",
      "Epoch 19/30\n",
      "1/1 [==============================] - ETA: 0s - loss: 1.0833 - accuracy: 0.7619\n",
      "Epoch 19: val_loss did not improve from 1.09928\n",
      "1/1 [==============================] - 0s 137ms/step - loss: 1.0833 - accuracy: 0.7619 - val_loss: 1.1114 - val_accuracy: 0.0000e+00\n",
      "Epoch 20/30\n",
      "1/1 [==============================] - ETA: 0s - loss: 1.0825 - accuracy: 0.7619\n",
      "Epoch 20: val_loss did not improve from 1.09928\n",
      "1/1 [==============================] - 0s 136ms/step - loss: 1.0825 - accuracy: 0.7619 - val_loss: 1.1121 - val_accuracy: 0.0000e+00\n",
      "Epoch 21/30\n",
      "1/1 [==============================] - ETA: 0s - loss: 1.0817 - accuracy: 0.7619\n",
      "Epoch 21: val_loss did not improve from 1.09928\n",
      "1/1 [==============================] - 0s 147ms/step - loss: 1.0817 - accuracy: 0.7619 - val_loss: 1.1128 - val_accuracy: 0.0000e+00\n",
      "Epoch 22/30\n",
      "1/1 [==============================] - ETA: 0s - loss: 1.0808 - accuracy: 0.7619\n",
      "Epoch 22: val_loss did not improve from 1.09928\n",
      "1/1 [==============================] - 0s 133ms/step - loss: 1.0808 - accuracy: 0.7619 - val_loss: 1.1135 - val_accuracy: 0.0000e+00\n",
      "Epoch 23/30\n",
      "1/1 [==============================] - ETA: 0s - loss: 1.0800 - accuracy: 0.7619\n",
      "Epoch 23: val_loss did not improve from 1.09928\n",
      "1/1 [==============================] - 0s 138ms/step - loss: 1.0800 - accuracy: 0.7619 - val_loss: 1.1142 - val_accuracy: 0.0000e+00\n",
      "Epoch 24/30\n",
      "1/1 [==============================] - ETA: 0s - loss: 1.0792 - accuracy: 0.7619\n",
      "Epoch 24: val_loss did not improve from 1.09928\n",
      "1/1 [==============================] - 0s 132ms/step - loss: 1.0792 - accuracy: 0.7619 - val_loss: 1.1149 - val_accuracy: 0.0000e+00\n",
      "Epoch 25/30\n",
      "1/1 [==============================] - ETA: 0s - loss: 1.0783 - accuracy: 0.7619\n",
      "Epoch 25: val_loss did not improve from 1.09928\n",
      "1/1 [==============================] - 0s 137ms/step - loss: 1.0783 - accuracy: 0.7619 - val_loss: 1.1155 - val_accuracy: 0.0000e+00\n",
      "Epoch 26/30\n",
      "1/1 [==============================] - ETA: 0s - loss: 1.0775 - accuracy: 0.7619\n",
      "Epoch 26: val_loss did not improve from 1.09928\n",
      "1/1 [==============================] - 0s 137ms/step - loss: 1.0775 - accuracy: 0.7619 - val_loss: 1.1162 - val_accuracy: 0.0000e+00\n",
      "Epoch 27/30\n",
      "1/1 [==============================] - ETA: 0s - loss: 1.0767 - accuracy: 0.7619\n",
      "Epoch 27: val_loss did not improve from 1.09928\n",
      "1/1 [==============================] - 0s 141ms/step - loss: 1.0767 - accuracy: 0.7619 - val_loss: 1.1169 - val_accuracy: 0.0000e+00\n",
      "Epoch 28/30\n",
      "1/1 [==============================] - ETA: 0s - loss: 1.0758 - accuracy: 0.7619\n",
      "Epoch 28: val_loss did not improve from 1.09928\n",
      "1/1 [==============================] - 0s 136ms/step - loss: 1.0758 - accuracy: 0.7619 - val_loss: 1.1176 - val_accuracy: 0.0000e+00\n",
      "Epoch 29/30\n",
      "1/1 [==============================] - ETA: 0s - loss: 1.0750 - accuracy: 0.7619\n",
      "Epoch 29: val_loss did not improve from 1.09928\n",
      "1/1 [==============================] - 0s 134ms/step - loss: 1.0750 - accuracy: 0.7619 - val_loss: 1.1183 - val_accuracy: 0.0000e+00\n",
      "Epoch 30/30\n",
      "1/1 [==============================] - ETA: 0s - loss: 1.0742 - accuracy: 0.7619\n",
      "Epoch 30: val_loss did not improve from 1.09928\n",
      "1/1 [==============================] - 0s 134ms/step - loss: 1.0742 - accuracy: 0.7619 - val_loss: 1.1190 - val_accuracy: 0.0000e+00\n",
      "1/1 [==============================] - 0s 81ms/step - loss: 1.0982 - accuracy: 0.5484\n",
      "Test accuracy: 54.84%\n"
     ]
    }
   ],
   "source": [
    "# Utility for our sequence model.\n",
    "def get_sequence_model():\n",
    "    class_vocab = label_processor.get_vocabulary()\n",
    "\n",
    "    frame_features_input = keras.Input((MAX_SEQ_LENGTH, NUM_FEATURES))\n",
    "    mask_input = keras.Input((MAX_SEQ_LENGTH,), dtype=\"bool\")\n",
    "\n",
    "    # Refer to the following tutorial to understand the significance of using `mask`:\n",
    "    # https://keras.io/api/layers/recurrent_layers/gru/\n",
    "    x = keras.layers.GRU(16, return_sequences=True)(frame_features_input, mask=mask_input)\n",
    "    x = keras.layers.GRU(8)(x)\n",
    "    x = keras.layers.Dropout(0.4)(x)\n",
    "    x = keras.layers.Dense(8, activation=\"relu\")(x)\n",
    "    output = keras.layers.Dense(len(class_vocab), activation=\"softmax\")(x)\n",
    "\n",
    "    rnn_model = keras.Model([frame_features_input, mask_input], output)\n",
    "\n",
    "    rnn_model.compile(\n",
    "        loss=\"sparse_categorical_crossentropy\", optimizer=\"adam\", metrics=[\"accuracy\"]\n",
    "    )\n",
    "    return rnn_model\n",
    "\n",
    "EPOCHS = 30\n",
    "# Utility for running experiments.\n",
    "def run_experiment():\n",
    "    filepath = \"./tmp/video_classifier\"\n",
    "    checkpoint = keras.callbacks.ModelCheckpoint(\n",
    "        filepath, save_weights_only=True, save_best_only=True, verbose=1\n",
    "    )\n",
    "\n",
    "    seq_model = get_sequence_model()\n",
    "    history = seq_model.fit(\n",
    "        [train_data[0], train_data[1]],\n",
    "        train_labels,\n",
    "        validation_split=0.3,\n",
    "        epochs=EPOCHS,\n",
    "        callbacks=[checkpoint],\n",
    "    )\n",
    "\n",
    "    seq_model.load_weights(filepath)\n",
    "    _, accuracy = seq_model.evaluate([test_data[0], test_data[1]], test_labels)\n",
    "    print(f\"Test accuracy: {round(accuracy * 100, 2)}%\")\n",
    "\n",
    "    return history, seq_model\n",
    "\n",
    "_, sequence_model = run_experiment()"
   ]
  },
  {
   "cell_type": "markdown",
   "id": "6f1f1681",
   "metadata": {},
   "source": [
    "# Inference"
   ]
  },
  {
   "cell_type": "code",
   "execution_count": 19,
   "id": "846a5956",
   "metadata": {},
   "outputs": [
    {
     "name": "stdout",
     "output_type": "stream",
     "text": [
      "Test video path: dataset/test/appropriate/pexels-ivan-samkov-8497000 (1080p).mp4\n",
      "1/1 [==============================] - 0s 65ms/step\n",
      "  appropriate: 33.377790%\n",
      "  nudity: 33.311105%\n",
      "  violence: 33.311102%\n"
     ]
    }
   ],
   "source": [
    "def prepare_single_video(frames):\n",
    "    frames = frames[None, ...]\n",
    "    frame_mask = np.zeros(shape=(1, MAX_SEQ_LENGTH,), dtype=\"bool\")\n",
    "    frame_features = np.zeros(shape=(1, MAX_SEQ_LENGTH, NUM_FEATURES), dtype=\"float32\")\n",
    "\n",
    "    for i, batch in enumerate(frames):\n",
    "        video_length = batch.shape[0]\n",
    "        length = min(MAX_SEQ_LENGTH, video_length)\n",
    "        for j in range(length):\n",
    "            frame_features[i, j, :] = feature_extractor.predict(batch[None, j, :])\n",
    "        frame_mask[i, :length] = 1  # 1 = not masked, 0 = masked\n",
    "\n",
    "    return frame_features, frame_mask\n",
    "\n",
    "\n",
    "def sequence_prediction(path):\n",
    "    class_vocab = label_processor.get_vocabulary()\n",
    "\n",
    "    frames = load_video(os.path.join(\"test\", path))\n",
    "    frame_features, frame_mask = prepare_single_video(frames)\n",
    "    probabilities = sequence_model.predict([frame_features, frame_mask])[0]\n",
    "\n",
    "    for i in np.argsort(probabilities)[::-1]:\n",
    "        print(f\"  {class_vocab[i]}: {probabilities[i] * 100:5.6f}%\")\n",
    "    return frames\n",
    "\n",
    "test_video = np.random.choice(test_df[\"video_name\"].values.tolist())\n",
    "print(f\"Test video path: {test_video}\")\n",
    "\n",
    "test_frames = sequence_prediction(test_video)\n"
   ]
  },
  {
   "cell_type": "code",
   "execution_count": null,
   "id": "6309d87b",
   "metadata": {},
   "outputs": [],
   "source": []
  },
  {
   "cell_type": "code",
   "execution_count": null,
   "id": "6150d7e2",
   "metadata": {},
   "outputs": [],
   "source": []
  },
  {
   "cell_type": "code",
   "execution_count": null,
   "id": "0b16e337",
   "metadata": {},
   "outputs": [],
   "source": []
  },
  {
   "cell_type": "code",
   "execution_count": null,
   "id": "ad15f322",
   "metadata": {},
   "outputs": [],
   "source": []
  },
  {
   "cell_type": "code",
   "execution_count": null,
   "id": "c9ae487f",
   "metadata": {},
   "outputs": [],
   "source": []
  }
 ],
 "metadata": {
  "kernelspec": {
   "display_name": "Python 3 (ipykernel)",
   "language": "python",
   "name": "python3"
  },
  "language_info": {
   "codemirror_mode": {
    "name": "ipython",
    "version": 3
   },
   "file_extension": ".py",
   "mimetype": "text/x-python",
   "name": "python",
   "nbconvert_exporter": "python",
   "pygments_lexer": "ipython3",
   "version": "3.9.18"
  }
 },
 "nbformat": 4,
 "nbformat_minor": 5
}
